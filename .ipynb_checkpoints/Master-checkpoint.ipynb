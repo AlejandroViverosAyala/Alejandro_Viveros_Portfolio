{
 "cells": [
  {
   "cell_type": "markdown",
   "id": "f18cb09e-e237-475b-bdb3-868f3fefceeb",
   "metadata": {},
   "source": [
    "# Is biable to study a Master Degree on 2025?\n",
    "\n",
    "The purpose of this essay is to evaluate if is rentable to do a master degree with the actual economy.\n",
    "The bases on this study is to compare the different master that offers the ENEB (Escuela Internacional de Barcelona) with the actual market. The masters offer from this University are: \n",
    "\n",
    "- Big Data y Business Intelligence\n",
    "- Fintech & Blockchain\n",
    "- Mercados Financieros y Gestión de Activos\n",
    "- Digital Business\n",
    "- Revenue Management y Hospitality\n",
    "- Project Management\n",
    "- Coaching y Mindfulness\n",
    "- Logística y Supply Chain Management\n",
    "- Gestión y Dirección de Equipos\n",
    "- Dirección de Recursos Humanos y Gestión del Talento\n",
    "- Marketing Digital y Analytics\n",
    "- Dirección Comercial y Marketing\n",
    "- IA Empresarial"
   ]
  },
  {
   "cell_type": "code",
   "execution_count": null,
   "id": "50a7803e-c35d-46db-bf46-a937b7c9ea98",
   "metadata": {},
   "outputs": [],
   "source": []
  }
 ],
 "metadata": {
  "kernelspec": {
   "display_name": "Python [conda env:base] *",
   "language": "python",
   "name": "conda-base-py"
  },
  "language_info": {
   "codemirror_mode": {
    "name": "ipython",
    "version": 3
   },
   "file_extension": ".py",
   "mimetype": "text/x-python",
   "name": "python",
   "nbconvert_exporter": "python",
   "pygments_lexer": "ipython3",
   "version": "3.11.5"
  }
 },
 "nbformat": 4,
 "nbformat_minor": 5
}
